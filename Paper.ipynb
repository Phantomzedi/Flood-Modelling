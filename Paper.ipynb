{
 "cells": [
  {
   "cell_type": "code",
   "execution_count": 39,
   "metadata": {},
   "outputs": [
    {
     "data": {
      "application/vnd.jupyter.widget-view+json": {
       "model_id": "7e6c3a2919944884a32097cb4faa045a",
       "version_major": 2,
       "version_minor": 0
      },
      "text/plain": [
       "Dropdown(description='Surface Type:', options=('Select one', 'Rural', 'Urban', 'Manmade'), value='Select one')"
      ]
     },
     "metadata": {},
     "output_type": "display_data"
    },
    {
     "name": "stdout",
     "output_type": "stream",
     "text": [
      "No coefficient has been selected yet.\n"
     ]
    },
    {
     "data": {
      "application/vnd.jupyter.widget-view+json": {
       "model_id": "ea6a47ca391449fea487b899e4d6dc56",
       "version_major": 2,
       "version_minor": 0
      },
      "text/plain": [
       "Dropdown(description='Surface:', options=('Parking', 'Commercial', 'Streets', 'Industrial', 'Residential Lots,…"
      ]
     },
     "metadata": {},
     "output_type": "display_data"
    },
    {
     "data": {
      "application/vnd.jupyter.widget-view+json": {
       "model_id": "b5a0b4ef19b34eca9c76d1ecc4e8d89e",
       "version_major": 2,
       "version_minor": 0
      },
      "text/plain": [
       "Button(description='Select Coefficient', style=ButtonStyle())"
      ]
     },
     "metadata": {},
     "output_type": "display_data"
    },
    {
     "name": "stdout",
     "output_type": "stream",
     "text": [
      "The runoff coefficient for Residential Lots, Medium Density in Urban is: 0.345\n"
     ]
    }
   ],
   "source": [
    "# import sys\n",
    "# sys.path.append(r\"C:\\Users\\user\\Desktop\\Design Aspiration\\Flood modelling\\Python\")\n",
    "\n",
    "import Flood\n",
    "import importlib\n",
    "\n",
    "importlib.reload(Flood)\n",
    "\n",
    "# Create an instance of the Rational_method class\n",
    "calculator = Flood.Rational_method()\n",
    "\n",
    "# Step 1: User selects surface type (e.g., rural, urban, man-made)\n",
    "calculator.select_surface()\n",
    "\n",
    "# coef = calculator.return_selected_coefficient()"
   ]
  },
  {
   "cell_type": "code",
   "execution_count": 40,
   "metadata": {},
   "outputs": [
    {
     "name": "stdout",
     "output_type": "stream",
     "text": [
      "0.345\n"
     ]
    }
   ],
   "source": [
    "a = calculator.return_selected_coefficient()\n",
    "print(a)"
   ]
  },
  {
   "cell_type": "code",
   "execution_count": 54,
   "metadata": {},
   "outputs": [
    {
     "name": "stdout",
     "output_type": "stream",
     "text": [
      "lex joshuw\n",
      "-1\n",
      "-2\n",
      "-3\n",
      "-4\n",
      "-5\n",
      "-6\n",
      "-7\n",
      "-8\n",
      "-9\n"
     ]
    }
   ],
   "source": [
    "n1 = 'alex'\n",
    "n2 = 'joshuwa'\n",
    "w = 'flame'\n",
    "\n",
    "for i in n1:\n",
    "    if i in n2:\n",
    "        n1 = n1.replace(i,\"\")\n",
    "        n2 = n2.replace(i,\"\")\n",
    "\n",
    "print(n1,n2)\n",
    "len(w)\n",
    "\n",
    "# for j in len(n1+n2):\n",
    "\n",
    "for j in range(len(n1+n2)):\n",
    "    # print(j)\n",
    "    print((len(w)-(len(w)+1+j)))\n",
    "\n",
    "\n"
   ]
  },
  {
   "cell_type": "code",
   "execution_count": null,
   "metadata": {},
   "outputs": [],
   "source": []
  },
  {
   "cell_type": "code",
   "execution_count": null,
   "metadata": {},
   "outputs": [],
   "source": []
  }
 ],
 "metadata": {
  "kernelspec": {
   "display_name": "base",
   "language": "python",
   "name": "python3"
  },
  "language_info": {
   "codemirror_mode": {
    "name": "ipython",
    "version": 3
   },
   "file_extension": ".py",
   "mimetype": "text/x-python",
   "name": "python",
   "nbconvert_exporter": "python",
   "pygments_lexer": "ipython3",
   "version": "3.11.5"
  }
 },
 "nbformat": 4,
 "nbformat_minor": 2
}
